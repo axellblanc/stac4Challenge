{
 "cells": [
  {
   "cell_type": "markdown",
   "metadata": {},
   "source": [
    "# STAC Challenge automatized\n",
    "<br><br>\n",
    "All of this is made assuming that the structure of the folder would be: <br><br>\n",
    "\n",
    "stac_challenge_folder / accra_1 / accra_1_drains.geojson <br><br> \n",
    "stac_challenge_folder / accra_1 / accra_1_roads.geojson <br><br> \n",
    "stac_challenge_folder / accra_1 / accra_1_buildings.geojson <br><br> \n",
    "stac_challenge_folder / accra_2 / accra_2_drains.geojson <br><br> \n",
    "...<br><br>\n",
    "\n",
    "And that the links to the corresponding tiffiles would be listed in tiffiles (see below)"
   ]
  },
  {
   "cell_type": "code",
   "execution_count": 90,
   "metadata": {},
   "outputs": [],
   "source": [
    "from satstac import Catalog\n",
    "from satstac import Collection\n",
    "from satstac import Item\n",
    "import rasterio\n",
    "import shapely\n",
    "import sys,os,os.path\n",
    "import json"
   ]
  },
  {
   "cell_type": "code",
   "execution_count": 91,
   "metadata": {},
   "outputs": [],
   "source": [
    "#Where to store the collection and the items:\n",
    "stac_challenge_folder = './STAC_Challenge_3'\n",
    "catalog_address = stac_challenge_folder + '/' + 'catalog.json'\n",
    "tiffiles = {\"accra_1\": \"https://oin-hotosm.s3.amazonaws.com/5b694a0f4b87366cc0f0fa70/0/5b694a0f4b8736ebfff0fa71.tif\",\n",
    "           \"accra_2\":\"https://oin-hotosm.s3.amazonaws.com/5bb9323e9ed15b0006d24f33/0/5bb9323e9ed15b0006d24f34.tif\",\n",
    "           'monrovia_1':'https://oin-hotosm.s3.amazonaws.com/5c08c2ec6918390006b7a8a1/0/5c08c2ec6918390006b7a8a2.tif',\n",
    "           'monrovia_2':'https://oin-hotosm.s3.amazonaws.com/5b83a514c8e197000a93403e/0/5b83a514c8e197000a93403f.tif'}"
   ]
  },
  {
   "cell_type": "markdown",
   "metadata": {},
   "source": [
    "### Info for the root catalog (hence generic info about the challenge):"
   ]
  },
  {
   "cell_type": "code",
   "execution_count": 92,
   "metadata": {},
   "outputs": [],
   "source": [
    "stac_version = \"0.6.2\"\n",
    "catalog_id = 'challenge_catalog'\n",
    "catalog_title = 'Challenge OpenML'\n",
    "catalog_description = 'Data for the ML challenge, in the STAC format'\n",
    "catalog_links = [ {\n",
    "      \"rel\": \"self\",\n",
    "      \"href\": '../'+catalog_address\n",
    "    },\n",
    "        {\n",
    "      \"rel\": \"root\",\n",
    "      \"href\": '../'+catalog_address\n",
    "    },\n",
    "]"
   ]
  },
  {
   "cell_type": "markdown",
   "metadata": {},
   "source": [
    "### Generic Info for the sur_collections (Info that will be in common for all of them)"
   ]
  },
  {
   "cell_type": "code",
   "execution_count": 161,
   "metadata": {},
   "outputs": [],
   "source": [
    "license_col = \"CC-BY-4.0\" #open, proprietary?\n",
    "version_col = \"1.0\"\n",
    "providers_col = [\n",
    "    {\n",
    "      \"name\": \"WB/OCA\",\n",
    "      \"roles\": [\n",
    "        \"producer\",\n",
    "        \"licensor\"\n",
    "      ],\n",
    "      \"url\": \"https://opencitiesproject.org\"\n",
    "    }\n",
    "  ]\n",
    "basic_keywords_col = [\"challenge\", \"world bank\"]\n",
    "extent_col = {\n",
    "    \"spatial\": [\n",
    "      -180.0,\n",
    "      -56.0,\n",
    "      180.0,\n",
    "      83.0\n",
    "    ],\n",
    "    \"temporal\": [\n",
    "      \"2015-06-23T00:00:00Z\",\n",
    "        None\n",
    "    ]\n",
    "  }\n",
    "id_collection_basic_col = \"challenge_collection_\"\n",
    "basic_description_col = \"The data available for the challenge formatted in a STAC collection for the \"\n",
    "basic_title_col = \"Data for the challenge \""
   ]
  },
  {
   "cell_type": "code",
   "execution_count": 169,
   "metadata": {},
   "outputs": [],
   "source": [
    "def get_tags_sur_collection(foldername):\n",
    "    key = basic_keywords_col.copy()\n",
    "    key.append(foldername)\n",
    "    extent_col = {\n",
    "    \"spatial\": [\n",
    "      -180.0,\n",
    "      -56.0,\n",
    "      180.0,\n",
    "      83.0\n",
    "    ],\n",
    "    \"temporal\": [\n",
    "      \"2015-06-23T00:00:00Z\",\n",
    "        None\n",
    "    ]\n",
    "    }\n",
    "    collection_address_col = stac_challenge_folder +'/' +id_collection_basic+foldername+'/'+ foldername + '_collection.json'\n",
    "    links =[ {\n",
    "          \"rel\": \"self\",\n",
    "          \"href\": collection_address_col\n",
    "        },\n",
    "            {\n",
    "          \"rel\": \"root\",\n",
    "          \"href\": '../catalog.json'#catalog_address\n",
    "        }]\n",
    "    title = basic_title_col + foldername + ' s AoI'\n",
    "    description = basic_description_col + foldername + ' AoI'\n",
    "    id_collection = id_collection_basic_col + foldername\n",
    "    return stac_version, id_collection, title, description, key, version_col, license_col, providers_col, extent_col, links"
   ]
  },
  {
   "cell_type": "code",
   "execution_count": 168,
   "metadata": {},
   "outputs": [],
   "source": [
    "def create_corresponding_sur_collection(stac_version, id_collection, title, description, keywords, version, license, providers, extent, links):\n",
    "    # create a Collection object with JSON\n",
    "    collection_json = {\n",
    "    \"stac_version\": stac_version,\n",
    "    \"id\": id_collection,\n",
    "    \"title\": title ,\n",
    "    \"description\": description,\n",
    "    \"collection version\": version,\n",
    "    \"keywords\":keywords,\n",
    "    \"license\": license,\n",
    "    \"version\": version,\n",
    "    \"providers\":providers,\n",
    "    \"extent\":extent,\n",
    "    \"links\": links\n",
    "    }\n",
    "    col = Collection(collection_json)\n",
    "    print(col.id)\n",
    "    return col"
   ]
  },
  {
   "cell_type": "markdown",
   "metadata": {},
   "source": [
    "### Test\n"
   ]
  },
  {
   "cell_type": "code",
   "execution_count": 96,
   "metadata": {},
   "outputs": [],
   "source": [
    "#folder = 'accra'\n",
    "#stac_version, id_collection, title, description, key, version, license, providers, extent, links = get_tags_sur_collection(folder)\n",
    "#collection_address_col = stac_challenge_folder +'/' +id_collection_basic_col+folder+'/'+ folder + '_collection.json'"
   ]
  },
  {
   "cell_type": "code",
   "execution_count": 97,
   "metadata": {},
   "outputs": [],
   "source": [
    "#col = create_corresponding_sur_collection(stac_version, id_collection, title, description, key, version, license, providers, extent, links)"
   ]
  },
  {
   "cell_type": "code",
   "execution_count": 98,
   "metadata": {},
   "outputs": [],
   "source": [
    "#col.data"
   ]
  },
  {
   "cell_type": "code",
   "execution_count": null,
   "metadata": {},
   "outputs": [],
   "source": []
  },
  {
   "cell_type": "markdown",
   "metadata": {},
   "source": [
    "### Generic Info for the sub_collections (Info that will be in common for all of them)"
   ]
  },
  {
   "cell_type": "code",
   "execution_count": 99,
   "metadata": {},
   "outputs": [],
   "source": [
    "license = \"open\" #open, proprietary?\n",
    "version = \"1.0\"\n",
    "providers = [\n",
    "    {\n",
    "      \"name\": \"WB/OCA\",\n",
    "      \"roles\": [\n",
    "        \"producer\",\n",
    "        \"licensor\"\n",
    "      ],\n",
    "      \"url\": \"https://opencitiesproject.org\"\n",
    "    }\n",
    "  ]\n",
    "basic_keywords = [\"challenge\", \"world bank\"]\n",
    "extent = {\n",
    "    \"spatial\": [\n",
    "      -180.0,\n",
    "      -56.0,\n",
    "      180.0,\n",
    "      83.0\n",
    "    ],\n",
    "    \"temporal\": [\n",
    "      \"2015-06-23T00:00:00Z\",\n",
    "        None\n",
    "    ]\n",
    "  }\n",
    "id_collection_basic = \"challenge_collection_\"\n",
    "basic_description = \"The data available for the challenge formatted in a STAC collection for \"\n",
    "basic_title = \"Data for the challenge \""
   ]
  },
  {
   "cell_type": "markdown",
   "metadata": {},
   "source": [
    "### Generic Info for the items (Info that will be in common for all of them)"
   ]
  },
  {
   "cell_type": "code",
   "execution_count": 100,
   "metadata": {},
   "outputs": [],
   "source": [
    "type_item = \"Feature\"\n",
    "properties_item = {\n",
    "    \"datetime\": \"2019-02-26T00:00:00Z\",\n",
    "    \"td:title\": \"test\",\n",
    "    \"td:description\": \"test\",\n",
    "    \"td:label_type\": \"segmentation\",\n",
    "    \"td:classes\": [\n",
    "      'buildings', 'drains', 'roads'\n",
    "    ]\n",
    "  }"
   ]
  },
  {
   "cell_type": "markdown",
   "metadata": {},
   "source": [
    "## Create the Catalog\n"
   ]
  },
  {
   "cell_type": "code",
   "execution_count": 101,
   "metadata": {},
   "outputs": [
    {
     "name": "stdout",
     "output_type": "stream",
     "text": [
      "challenge_catalog\n",
      "challenge_catalog\n",
      "./STAC_Challenge_3/catalog.json\n",
      "./STAC_Challenge_3\n"
     ]
    }
   ],
   "source": [
    "catalog_json = {\n",
    "    \"stac_version\": stac_version,\n",
    "    \"id\": catalog_id,\n",
    "    \"title\": catalog_title,\n",
    "    \"description\": catalog_description,\n",
    "    \"links\": catalog_links   \n",
    "}\n",
    "catalog = Catalog(catalog_json)\n",
    "print(catalog.id)\n",
    "# save as a root catalog\n",
    "catalog.save_as(catalog_address)\n",
    "print(catalog.id)\n",
    "print(catalog.filename)\n",
    "print(catalog.path)"
   ]
  },
  {
   "cell_type": "markdown",
   "metadata": {},
   "source": [
    "## Functions to create the collections\n",
    "\n"
   ]
  },
  {
   "cell_type": "code",
   "execution_count": 102,
   "metadata": {},
   "outputs": [],
   "source": [
    "def get_tags_collection(foldername):\n",
    "    key = basic_keywords.copy()\n",
    "    key.append(foldername)\n",
    "    key.append(foldername.split('_')[0]+' '+foldername.split('_')[1])\n",
    "    collection_address = stac_challenge_folder +'/' +id_collection_basic+foldername+'/'+ foldername + '_collection.json'\n",
    "    links =[ {\n",
    "          \"rel\": \"self\",\n",
    "          \"href\": collection_address\n",
    "        },\n",
    "            {\n",
    "          \"rel\": \"root\",\n",
    "          \"href\": '../catalog.json'#catalog_address\n",
    "        }]\n",
    "    title = basic_title + foldername\n",
    "    description = basic_description + foldername\n",
    "    id_collection = id_collection_basic + foldername\n",
    "    return stac_version, id_collection, title, description, key, version, license, providers, extent, links"
   ]
  },
  {
   "cell_type": "code",
   "execution_count": 103,
   "metadata": {},
   "outputs": [],
   "source": [
    "def create_corresponding_collection(stac_version, id_collection, title, description, keywords, version, license, providers, extent, links):\n",
    "    # create a Collection object with JSON\n",
    "    collection_json = {\n",
    "    \"stac_version\": stac_version,\n",
    "    \"id\": id_collection,\n",
    "    \"title\": title ,\n",
    "    \"description\": description,\n",
    "    \"collection version\": version,\n",
    "    \"keywords\":keywords,\n",
    "    \"license\": license,\n",
    "    \"version\": version,\n",
    "    \"providers\":providers,\n",
    "    \"extent\":extent,\n",
    "    \"links\": links\n",
    "    }\n",
    "    col = Collection(collection_json)\n",
    "    print(col.id)\n",
    "    return col"
   ]
  },
  {
   "cell_type": "markdown",
   "metadata": {},
   "source": [
    "## Functions to create the items"
   ]
  },
  {
   "cell_type": "code",
   "execution_count": 149,
   "metadata": {},
   "outputs": [],
   "source": [
    "def get_bbox(directory, filename):\n",
    "    with open(directory + '/'+ filename, 'r') as f:\n",
    "        data = json.load(f)\n",
    "        c1 = [];\n",
    "        c2 = [];\n",
    "        if(\"Polygon\" in data['features'][0][\"geometry\"][\"type\"]):\n",
    "            for f in data[\"features\"]:\n",
    "                c_partial_1 = f[\"geometry\"][\"coordinates\"]\n",
    "                #print(c_partial_1)\n",
    "                for c_partial_2 in c_partial_1:\n",
    "                    for c_partial in c_partial_2:\n",
    "                        for x in c_partial:\n",
    "                            #print('x0:',x[0])\n",
    "                            c1.append(x[0]) # first coordinate\n",
    "                            c2.append(x[1])     \n",
    "        else:\n",
    "            for f in data[\"features\"]:\n",
    "                c_partial_1 = f[\"geometry\"][\"coordinates\"]\n",
    "                #print(c_partial_1)\n",
    "                for c_partial in c_partial_1:\n",
    "                    for x in c_partial:\n",
    "                        #print('x0:',x[0])\n",
    "                        c1.append(x[0]) # first coordinate\n",
    "                        c2.append(x[1])\n",
    "        m1_ = min(c1)\n",
    "        m2_ = min(c2)\n",
    "        M1_ = max(c1)\n",
    "        M2_ = max(c2)\n",
    "        #bbox = [[m1,m2],[m1,M2],[M1,M2],[M1,m2],[m1,m2]]\n",
    "        bbox = [m1_,m2_,M1_,M2_]\n",
    "    return bbox"
   ]
  },
  {
   "cell_type": "code",
   "execution_count": 105,
   "metadata": {},
   "outputs": [],
   "source": [
    "def get_tags_items(collection,surfoldername, foldername, filename, bbox):\n",
    "    filename_split_1 = filename.split('.');\n",
    "    filename_split = filename_split_1[0]\n",
    "    id_item = filename_split\n",
    "    links_item = [    {\n",
    "      \"rel\": \"self\",\n",
    "      \"href\": stac_challenge_folder+\"/\"+filename_split+\"-item.json\"\n",
    "    },\n",
    "    {\n",
    "      \"rel\": \"root\",\n",
    "      \"href\": '../../catalog.json'\n",
    "    },]\n",
    "    \n",
    "    assets_item = {\n",
    "    \"raster\": {\n",
    "        \"title\": \"image\",\n",
    "        \"href\": tiffiles[filename.split('_')[0]+'_'+filename.split('_')[1]],\n",
    "        \"type\": \"image/vnd.stac.geotiff; cloud-optimized=true\"\n",
    "    },\n",
    "    \"vector\": {\n",
    "      \"title\": filename_split,\n",
    "      \"href\": '../../'+surfoldername +'/'+foldername+'/'+filename,\n",
    "      \"type\": \"application/geo+json\"\n",
    "    }\n",
    "    }\n",
    "    key = basic_keywords.copy()\n",
    "    key.append(filename_split[0]+'_'+filename_split[1])\n",
    "    key.append(filename_split[2])\n",
    "    collection_address = stac_challenge_folder +'/' + filename\n",
    "    directory = stac_challenge_folder + '/'+surfoldername+'/'+ foldername\n",
    "    \n",
    "    with open(directory + '/'+ filename, 'r') as f:\n",
    "        data = json.load(f)\n",
    "        geom = []\n",
    "        for f in data[\"features\"]:\n",
    "            geom.append(f[\"geometry\"][\"coordinates\"][0])\n",
    "        if(\"Polygon\" in data['features'][0][\"geometry\"][\"type\"]):    \n",
    "            geometry_item = {\n",
    "                   \"type\": \"MultiPolygon\",\n",
    "                    \"coordinates\": geom\n",
    "                 }\n",
    "        else:\n",
    "            geometry_item = {\n",
    "                   \"type\": \"MultiLineString\",\n",
    "                   \"coordinates\": geom\n",
    "                 }\n",
    "    bbox_item = bbox\n",
    "    prop = properties_item;\n",
    "    prop['collection']=filename_split.split('_')[0]+' '+filename_split.split('_')[1]\n",
    "    prop['td:title']=filename_split.split('_')[0]+' '+filename_split.split('_')[1]\n",
    "    prop['td:label_type']=filename_split.split('_')[2]\n",
    "    prop['td:description']=filename_split.split('_')[2]+' for '+filename_split.split('_')[0]+' '+filename_split.split('_')[1]\n",
    "    return id_item, type_item, geometry_item, bbox_item, prop, links_item,assets_item"
   ]
  },
  {
   "cell_type": "code",
   "execution_count": 106,
   "metadata": {},
   "outputs": [],
   "source": [
    "# create an Item object with JSON\n",
    "def create_corresponding_item(id_item, type_item, geometry_item, bbox_item, properties_item, links_item,assets_item):\n",
    "    item_json = {\n",
    "        \"id\": id_item,\n",
    "        \"type\": type_item,\n",
    "        \"geometry\": geometry_item,\n",
    "        \"bbox\": bbox_item,\n",
    "        \"properties\": properties_item,\n",
    "        \"links\": links_item,\n",
    "        \"assets\":assets_item,\n",
    "    }\n",
    "    it= Item(item_json)\n",
    "    return it"
   ]
  },
  {
   "cell_type": "markdown",
   "metadata": {},
   "source": [
    "## Create the items and collections\n"
   ]
  },
  {
   "cell_type": "code",
   "execution_count": 107,
   "metadata": {},
   "outputs": [
    {
     "data": {
      "text/plain": [
       "{'stac_version': '??',\n",
       " 'id': 'challenge_catalog',\n",
       " 'title': 'Challenge OpenML',\n",
       " 'description': 'Data for the ML challenge, in the STAC format',\n",
       " 'links': [{'rel': 'self', 'href': '.././STAC_Challenge_3/catalog.json'},\n",
       "  {'rel': 'root', 'href': '.././STAC_Challenge_3/catalog.json'}]}"
      ]
     },
     "execution_count": 107,
     "metadata": {},
     "output_type": "execute_result"
    }
   ],
   "source": [
    "catalog.data"
   ]
  },
  {
   "cell_type": "markdown",
   "metadata": {},
   "source": [
    "for surfolder in os.listdir(stac_challenge_folder):\n",
    "    if(sur_folder!= '.DS_Store' and \"json\"  not in sur_folder):\n",
    "        #print(sur_folder)\n",
    "        stac_version, id_collection, title, description, key, version, license, providers, extent, links = get_tags_sur_collection(sur_folder)\n",
    "        collection_address_col = stac_challenge_folder +'/' +id_collection_basic_col+sur_folder+'_AoI'+'/'+ sur_folder + '_collection.json'\n",
    "        #print(collection_address_col)\n",
    "        sur_collection = create_corresponding_sur_collection(stac_version, id_collection, title, description, key, version, license, providers, extent, links)\n",
    "        sur_collection.save_as(collection_address_col)\n",
    "        catalog.add_catalog(sur_collection)\n",
    "        \n",
    "        \n",
    "        \n",
    " \n",
    "        \n",
    "    \n",
    "    \n",
    "    \n",
    "           \n",
    "        \n",
    "        \n",
    "        for folder in os.listdir(stac_challenge_folder+'/'+sur_folder):\n",
    "            if(folder!= '.DS_Store' and \"json\" not in folder):\n",
    "                #print(folder)\n",
    "                stac_version, id_collection, title, description, keywords, version, license, providers, extent, links = get_tags_collection(folder)\n",
    "                collection = create_corresponding_collection(stac_version, id_collection, title, description, keywords, version, license, providers, extent, links)\n",
    "                #collection_address = stac_challenge_folder +'/' + folder + '_collection.json'\n",
    "                collection_address = stac_challenge_folder+'/' +id_collection_basic_col+sur_folder +'/' +id_collection_basic+folder+'/'+ folder + '_collection.json'\n",
    "                print(collection_address)\n",
    "                collection.save_as(collection_address)\n",
    "                sur_collection.add_catalog(collection)\n",
    "        \n",
    "                for file in os.listdir(stac_challenge_folder+'/'+sur_folder+'/'+folder):\n",
    "                    #print(file)\n",
    "            \n",
    "                    bbox = get_bbox(stac_challenge_folder+'/'+sur_folder + '/'+ folder, file)\n",
    "                    id_item, type_item, geometry_item, bbox_item, properties_item, links_item,assets_item = get_tags_items(collection,sur_folder,folder, file, bbox)\n",
    "                    item = create_corresponding_item(id_item, type_item, geometry_item, bbox_item, properties_item, links_item,assets_item)\n",
    "                    item_address = stac_challenge_folder+'/' +id_collection_basic_col+sur_folder +'/' +id_collection_basic+folder+'/'+ file.split('.')[0] + '-item.json'\n",
    "                    item.save_as(item_address)\n",
    "                    collection.add_item(item)\n",
    "            \n",
    "                collection_address = stac_challenge_folder +'/' + folder + '_collection.json'\n",
    "                collection.save_as(collection_address)\n",
    "    catalog.save_as(catalog_address)\n",
    "            \n",
    "            \n",
    "            \n",
    "            \n",
    "            \n",
    "            \n",
    "            \n",
    "            \n",
    "            \n",
    "            \n",
    "            \n",
    "            \n",
    "            \n",
    "            \n",
    "            \n",
    "            \n",
    "            \n",
    "    \n",
    "    \n",
    "    \n"
   ]
  },
  {
   "cell_type": "code",
   "execution_count": 239,
   "metadata": {},
   "outputs": [],
   "source": [
    "stac_version = stac_version\n",
    "catalog_id = 'challenge_catalog'\n",
    "catalog_title = 'Challenge OpenML'\n",
    "catalog_description = 'Data for the ML challenge, in the STAC format'\n",
    "catalog_links = [ {\n",
    "      \"rel\": \"self\",\n",
    "      \"href\": '../'+catalog_address\n",
    "    },\n",
    "        {\n",
    "      \"rel\": \"root\",\n",
    "      \"href\": '../'+catalog_address\n",
    "    },\n",
    "]"
   ]
  },
  {
   "cell_type": "code",
   "execution_count": 240,
   "metadata": {},
   "outputs": [
    {
     "name": "stdout",
     "output_type": "stream",
     "text": [
      "challenge_catalog\n",
      "challenge_catalog\n",
      "./STAC_Challenge_3/catalog.json\n",
      "./STAC_Challenge_3\n"
     ]
    },
    {
     "data": {
      "text/plain": [
       "{'stac_version': '??',\n",
       " 'id': 'challenge_catalog',\n",
       " 'title': 'Challenge OpenML',\n",
       " 'description': 'Data for the ML challenge, in the STAC format',\n",
       " 'links': [{'rel': 'self', 'href': '.././STAC_Challenge_3/catalog.json'},\n",
       "  {'rel': 'root', 'href': '.././STAC_Challenge_3/catalog.json'}]}"
      ]
     },
     "execution_count": 240,
     "metadata": {},
     "output_type": "execute_result"
    }
   ],
   "source": [
    "catalog_json = {\n",
    "    \"stac_version\": stac_version,\n",
    "    \"id\": catalog_id,\n",
    "    \"title\": catalog_title,\n",
    "    \"description\": catalog_description,\n",
    "    \"links\": catalog_links   \n",
    "}\n",
    "catalog = Catalog(catalog_json)\n",
    "print(catalog.id)\n",
    "# save as a root catalog\n",
    "catalog.save_as(catalog_address)\n",
    "print(catalog.id)\n",
    "print(catalog.filename)\n",
    "print(catalog.path)\n",
    "catalog.data"
   ]
  },
  {
   "cell_type": "code",
   "execution_count": 241,
   "metadata": {},
   "outputs": [],
   "source": [
    "#collection.data['extent']['spatial']\n",
    "#collection.filename\n",
    "#bbox = [[m1,m2],[m1,M2],[M1,M2],[M1,m2],[m1,m2]]"
   ]
  },
  {
   "cell_type": "code",
   "execution_count": 242,
   "metadata": {},
   "outputs": [
    {
     "name": "stdout",
     "output_type": "stream",
     "text": [
      "sur_folder: accra\n",
      "challenge_collection_accra\n",
      "collection_data_1: {'stac_version': '??', 'id': 'challenge_collection_accra', 'title': 'Data for the challenge accra s AoI', 'description': 'The data available for the challenge formatted in a STAC collection for the accra AoI', 'collection version': '1.0', 'keywords': ['challenge', 'world bank', 'accra'], 'license': 'CC-BY-4.0', 'version': '1.0', 'providers': [{'name': 'WB/OCA', 'roles': ['producer', 'licensor'], 'url': 'https://opencitiesproject.org'}], 'extent': {'spatial': [-180.0, -56.0, 180.0, 83.0], 'temporal': ['2015-06-23T00:00:00Z', None]}, 'links': [{'rel': 'self', 'href': './STAC_Challenge_3/challenge_collection_accra/accra_collection.json'}, {'rel': 'root', 'href': '../catalog.json'}]}\n",
      "folder: accra_1\n",
      "file: accra_1_roads.geojson\n",
      "file: accra_1_buildings.geojson\n",
      "file: accra_1_drains.geojson\n",
      "folder: accra_2\n",
      "file: accra_2_roads.geojson\n",
      "file: accra_2_drains.geojson\n",
      "file: accra_2_buildings.geojson\n",
      "bbox col: [-0.249951232642883, 5.607441913764041, -0.232886270193561, 5.619729171910823]\n",
      "collection data: {'stac_version': '??', 'id': 'challenge_collection_accra', 'title': 'Data for the challenge accra s AoI', 'description': 'The data available for the challenge formatted in a STAC collection for the accra AoI', 'collection version': '1.0', 'keywords': ['challenge', 'world bank', 'accra'], 'license': 'CC-BY-4.0', 'version': '1.0', 'providers': [{'name': 'WB/OCA', 'roles': ['producer', 'licensor'], 'url': 'https://opencitiesproject.org'}], 'extent': {'spatial': [-0.249951232642883, 5.607441913764041, -0.232886270193561, 5.619729171910823], 'temporal': ['2015-06-23T00:00:00Z', None]}, 'links': [{'rel': 'self', 'href': '/Users/axel/Desktop/STAC_Challenge_3/challenge_collection_accra/catalog.json'}, {'rel': 'root', 'href': '../catalog.json'}, {'rel': 'parent', 'href': '../catalog.json'}, {'rel': 'child', 'href': 'accra_1/catalog.json'}, {'rel': 'child', 'href': 'accra_2/catalog.json'}]}\n",
      "sur_folder: monrovia\n",
      "challenge_collection_monrovia\n",
      "collection_data_1: {'stac_version': '??', 'id': 'challenge_collection_monrovia', 'title': 'Data for the challenge monrovia s AoI', 'description': 'The data available for the challenge formatted in a STAC collection for the monrovia AoI', 'collection version': '1.0', 'keywords': ['challenge', 'world bank', 'monrovia'], 'license': 'CC-BY-4.0', 'version': '1.0', 'providers': [{'name': 'WB/OCA', 'roles': ['producer', 'licensor'], 'url': 'https://opencitiesproject.org'}], 'extent': {'spatial': [-180.0, -56.0, 180.0, 83.0], 'temporal': ['2015-06-23T00:00:00Z', None]}, 'links': [{'rel': 'self', 'href': './STAC_Challenge_3/challenge_collection_monrovia/monrovia_collection.json'}, {'rel': 'root', 'href': '../catalog.json'}]}\n",
      "folder: monrovia_2\n",
      "file: monrovia_2_buildings.geojson\n",
      "file: monrovia_2_drains.geojson\n",
      "file: monrovia_2_roads.geojson\n",
      "folder: monrovia_1\n",
      "file: monrovia_1_drains.geojson\n",
      "file: monrovia_1_buildings.geojson\n",
      "file: monrovia_1_roads.geojson\n",
      "bbox col: [-10.793288782269471, 6.3311144, -10.78351835858976, 6.339086591104653]\n",
      "collection data: {'stac_version': '??', 'id': 'challenge_collection_monrovia', 'title': 'Data for the challenge monrovia s AoI', 'description': 'The data available for the challenge formatted in a STAC collection for the monrovia AoI', 'collection version': '1.0', 'keywords': ['challenge', 'world bank', 'monrovia'], 'license': 'CC-BY-4.0', 'version': '1.0', 'providers': [{'name': 'WB/OCA', 'roles': ['producer', 'licensor'], 'url': 'https://opencitiesproject.org'}], 'extent': {'spatial': [-10.793288782269471, 6.3311144, -10.78351835858976, 6.339086591104653], 'temporal': ['2015-06-23T00:00:00Z', None]}, 'links': [{'rel': 'self', 'href': '/Users/axel/Desktop/STAC_Challenge_3/challenge_collection_monrovia/catalog.json'}, {'rel': 'root', 'href': '../catalog.json'}, {'rel': 'parent', 'href': '../catalog.json'}, {'rel': 'child', 'href': 'monrovia_2/catalog.json'}, {'rel': 'child', 'href': 'monrovia_1/catalog.json'}]}\n"
     ]
    },
    {
     "data": {
      "text/plain": [
       "challenge_catalog"
      ]
     },
     "execution_count": 242,
     "metadata": {},
     "output_type": "execute_result"
    }
   ],
   "source": [
    "#os.listdir(stac_challenge_folder)\n",
    "\n",
    "for sur_folder in os.listdir(stac_challenge_folder):\n",
    "    if(sur_folder!= '.DS_Store' and \"json\" not in sur_folder):\n",
    "        print('sur_folder:',sur_folder)\n",
    "        stac_version, id_collection, title, description, keywords, version, license, providers, extent, links = get_tags_sur_collection(sur_folder)\n",
    "        collection = create_corresponding_sur_collection(stac_version, id_collection, title, description, keywords, version, license, providers, extent, links)\n",
    "        collection_address = stac_challenge_folder +'/' +id_collection_basic+sur_folder+'/'+ sur_folder + '_collection.json'\n",
    "        print('collection_data_1:',collection.data)\n",
    "        collection.save_as(collection_address)\n",
    "        catalog.add_catalog(collection) \n",
    "        \n",
    "        for folder in os.listdir(stac_challenge_folder+'/'+sur_folder):\n",
    "            if(folder!= '.DS_Store' and \"json\" not in folder):\n",
    "                print('folder:',folder)\n",
    "                \n",
    "                \n",
    "                file = os.listdir(stac_challenge_folder+'/'+sur_folder+'/'+folder)[0]\n",
    "                bbox = get_bbox(stac_challenge_folder+'/'+sur_folder + '/'+ folder, file)\n",
    "                m1_col = bbox[0]\n",
    "                m2_col = bbox[1]\n",
    "                M1_col = bbox[2]\n",
    "                M2_col = bbox[3]\n",
    "                m1 = bbox[0]\n",
    "                m2 = bbox[1]\n",
    "                M1 = bbox[2]\n",
    "                M2 = bbox[3]\n",
    "                \n",
    "                for file in os.listdir(stac_challenge_folder+'/'+sur_folder+'/'+folder):\n",
    "                    print('file:',file)\n",
    "                    bbox = get_bbox(stac_challenge_folder+'/'+sur_folder + '/'+ folder, file)\n",
    "                    \n",
    "                    m1 = bbox[0]\n",
    "                    m2 = bbox[1]\n",
    "                    M1 = bbox[2]\n",
    "                    M2 = bbox[3]\n",
    "                    \n",
    "                    if(m1<m1_col):\n",
    "                        m1_col = m1\n",
    "                        \n",
    "                    if(m2<m2_col):\n",
    "                        m2_col = m2\n",
    "                    \n",
    "                    if(M1>M1_col):\n",
    "                        M1_col = M1\n",
    "                    \n",
    "                    if(M2>M2_col):\n",
    "                        M2_col = M2\n",
    "                    \n",
    "                    \n",
    "\n",
    "                    \n",
    "                    \n",
    "                    id_item, type_item, geometry_item, bbox_item, properties_item, links_item,assets_item = get_tags_items(collection,sur_folder,folder, file, bbox)\n",
    "                    item = create_corresponding_item(id_item, type_item, geometry_item, bbox_item, properties_item, links_item,assets_item)\n",
    "                    item_address = stac_challenge_folder+'/' +id_collection_basic_col+sur_folder +'/' +folder+'/'+file.split('.')[0] + '-item.json'\n",
    "                    #print(item_address)\n",
    "                    item.save_as(item_address)\n",
    "                    \n",
    "                    #save \n",
    "                    path = folder\n",
    "                    filename = file.split('.')[0] + '-item'\n",
    "                    item.save_as(item_address)\n",
    "                    collection.add_item(item, path = path, filename = filename)\n",
    "                    \n",
    "                    \n",
    "                    \n",
    "                     #save \n",
    "                    #path = folder\n",
    "                    #filename = file.split('.')[0] + '-item.json'\n",
    "\n",
    "                    #collection.add_item(item, path=path, filename=filename)\n",
    "                    #print('Item filename: ', item.filename)\n",
    "        bbox_col = [m1_col,m2_col,M1_col,M2_col]\n",
    "        print('bbox col:',bbox_col)\n",
    "        collection.data['extent']['spatial'] = bbox_col\n",
    "        \n",
    "        \n",
    "        collection.save_as(collection_address) \n",
    "        #catalog.add_catalog(collection)\n",
    "        \n",
    "        \n",
    "        \n",
    "        \n",
    "        #print('collection name:',collection.filename)\n",
    "        print('collection data:',collection.data)\n",
    "        #print('collection.data[extent][spatial]:',collection.data['extent']['spatial'])\n",
    "\n",
    "                            \n",
    "        \n",
    "    \n",
    "catalog.save_as(catalog_address)"
   ]
  },
  {
   "cell_type": "markdown",
   "metadata": {},
   "source": [
    "[[min(c1),min(c2)],[min(c1),max(c2)],[max(c1),max(c2)],[max(c1),min(c2)],[min(c1),min(c2)]]\n"
   ]
  },
  {
   "cell_type": "markdown",
   "metadata": {},
   "source": [
    "#os.listdir(stac_challenge_folder)\n",
    "sur_folder = 'monrovia'\n",
    "stac_version, id_collection, title, description, key, version, license, providers, extent, links = get_tags_sur_collection(sur_folder)\n",
    "\n",
    "collection_address_col = stac_challenge_folder +'/' +id_collection_basic_col+sur_folder+'/'+ sur_folder + '_collection.json'\n",
    "#print(collection_address_col)  \n",
    "sur_collection = create_corresponding_sur_collection(stac_version, id_collection, title, description, key, version, license, providers, extent, links)\n",
    "catalog.add_catalog(sur_collection)\n",
    "\n",
    "\n",
    "for folder in os.listdir(stac_challenge_folder+'/'+sur_folder):\n",
    "            if(folder!= '.DS_Store' and \"json\" not in folder):\n",
    " #               print(folder)\n",
    "                stac_version, id_collection, title, description, keywords, version, license, providers, extent, links = get_tags_collection(folder)\n",
    "                collection = create_corresponding_collection(stac_version, id_collection, title, description, keywords, version, license, providers, extent, links)\n",
    "                collection_address = stac_challenge_folder+'/' +id_collection_basic_col+sur_folder+'/' +id_collection_basic+folder+'/'+ folder + '_collection.json'\n",
    "  #              print(collection_address)\n",
    "                collection.save_as(collection_address)\n",
    "                sur_collection.add_catalog(collection)\n",
    "    \n",
    "                for file in os.listdir(stac_challenge_folder+'/'+sur_folder+'/'+folder):\n",
    "                    #print(file)\n",
    "                    bbox = get_bbox(stac_challenge_folder+'/'+sur_folder + '/'+ folder, file)\n",
    "                    id_item, type_item, geometry_item, bbox_item, properties_item, links_item,assets_item = get_tags_items(collection,sur_folder,folder, file, bbox)\n",
    "                    item = create_corresponding_item(id_item, type_item, geometry_item, bbox_item, properties_item, links_item,assets_item)\n",
    "                    item_address = stac_challenge_folder+'/' +id_collection_basic_col+sur_folder +'/' +id_collection_basic+folder+'/'+ file.split('.')[0] + '-item.json'\n",
    "                    print(item_address)\n",
    "                    item.save_as(item_address)\n",
    "                    collection.add_item(item)\n",
    "                    item.save_as(item_address)\n",
    "                sur_collection.add_catalog(collection)\n",
    "                collection.save_as(collection_address)\n",
    "#sur_collection.save_as(collection_address_col)\n",
    "    catalog.add_catalog(sur_collection)\n",
    "#catalog.save_as(catalog_address)\n",
    "    \n",
    "    \n",
    "    "
   ]
  },
  {
   "cell_type": "markdown",
   "metadata": {},
   "source": [
    "for sur_folder in os.listdir(stac_challenge_folder):\n",
    "    if(sur_folder!= '.DS_Store' and \"json\"  not in sur_folder):\n",
    "        #print(sur_folder)\n",
    "        stac_version, id_collection, title, description, key, version, license, providers, extent, links = get_tags_sur_collection(sur_folder)\n",
    "        collection_address_col = stac_challenge_folder +'/' +id_collection_basic_col+sur_folder+'_AoI'+'/'+ sur_folder + '_collection.json'\n",
    "        #print(collection_address_col)\n",
    "        sur_collection = create_corresponding_sur_collection(stac_version, id_collection, title, description, key, version, license, providers, extent, links)\n",
    "        sur_collection.save_as(collection_address_col)\n",
    "        \n",
    "        for folder in os.listdir(stac_challenge_folder+'/'+sur_folder):\n",
    "            if(folder!= '.DS_Store' and \"json\" not in folder):\n",
    "                #print(folder)\n",
    "                stac_version, id_collection, title, description, keywords, version, license, providers, extent, links = get_tags_collection(folder)\n",
    "                collection = create_corresponding_collection(stac_version, id_collection, title, description, keywords, version, license, providers, extent, links)\n",
    "                #collection_address = stac_challenge_folder +'/' + folder + '_collection.json'\n",
    "                collection_address = stac_challenge_folder+'/' +id_collection_basic_col+sur_folder+'_AoI''/' +id_collection_basic+folder+'/'+ folder + '_collection.json'\n",
    "                print(collection_address)\n",
    "                collection.save_as(collection_address)\n",
    "\n",
    "                for file in os.listdir(stac_challenge_folder+'/'+sur_folder+'/'+folder):\n",
    "                    #print(file)\n",
    "            \n",
    "                    bbox = get_bbox(stac_challenge_folder+'/'+sur_folder + '/'+ folder, file)\n",
    "                    id_item, type_item, geometry_item, bbox_item, properties_item, links_item,assets_item = get_tags_items(collection,sur_folder,folder, file, bbox)\n",
    "                    item = create_corresponding_item(id_item, type_item, geometry_item, bbox_item, properties_item, links_item,assets_item)\n",
    "                    item_address = stac_challenge_folder+'/' +id_collection_basic_col+sur_folder +'/' +id_collection_basic+folder+'/'+ file.split('.')[0] + '-item.json'\n",
    "                    item.save_as(item_address)\n",
    "                    collection.add_item(item)\n",
    "                sur_collection.add_catalog(collection)\n",
    "            \n",
    "                collection_address = stac_challenge_folder +'/' + folder + '_collection.json'\n",
    "                \n",
    "        catalog.add_catalog(sur_collection)\n",
    "    catalog.save_as(catalog_address)\n",
    "    "
   ]
  },
  {
   "cell_type": "code",
   "execution_count": null,
   "metadata": {},
   "outputs": [],
   "source": []
  }
 ],
 "metadata": {
  "kernelspec": {
   "display_name": "Python 3",
   "language": "python",
   "name": "python3"
  },
  "language_info": {
   "codemirror_mode": {
    "name": "ipython",
    "version": 3
   },
   "file_extension": ".py",
   "mimetype": "text/x-python",
   "name": "python",
   "nbconvert_exporter": "python",
   "pygments_lexer": "ipython3",
   "version": "3.7.1"
  }
 },
 "nbformat": 4,
 "nbformat_minor": 2
}
