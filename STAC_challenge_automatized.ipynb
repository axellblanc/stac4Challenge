{
 "cells": [
  {
   "cell_type": "markdown",
   "metadata": {},
   "source": [
    "# STAC Challenge automatized\n",
    "Test on Accra 1: \n",
    "https://oin-hotosm.s3.amazonaws.com/5b694a0f4b87366cc0f0fa70/0/5b694a0f4b8736ebfff0fa71.tif <br><br>\n",
    "\n",
    "All of this is made assuming that the structure of the folder would be: <br><br>\n",
    "\n",
    "stac_challenge_folder / accra_1 / accra_1_drains.geojson <br><br> \n",
    "stac_challenge_folder / accra_1 / accra_1_roads.geojson <br><br> \n",
    "stac_challenge_folder / accra_1 / accra_1_buildings.geojson <br><br> \n",
    "stac_challenge_folder / accra_2 / accra_2_drains.geojson <br><br> \n",
    "...<br><br>\n",
    "\n",
    "And that the links to the tiffiles would be listed in tiffiles (see below)"
   ]
  },
  {
   "cell_type": "code",
   "execution_count": 4,
   "metadata": {},
   "outputs": [],
   "source": [
    "from satstac import Catalog\n",
    "from satstac import Collection\n",
    "from satstac import Item\n",
    "import rasterio\n",
    "import shapely\n",
    "import sys,os,os.path\n",
    "import json"
   ]
  },
  {
   "cell_type": "code",
   "execution_count": 5,
   "metadata": {},
   "outputs": [],
   "source": [
    "#Where to store the collection and the items:\n",
    "stac_challenge_folder = '/Users/axel/Desktop/STAC_Challenge_2'\n",
    "catalog_address = stac_challenge_folder + '/' + 'catalog.json'\n",
    "\n",
    "#collection_address = stac_challenge_folder + '/' + 'collection.json'\n",
    "\n",
    "tiffiles = {\"accra_1\": \"https://oin-hotosm.s3.amazonaws.com/5b694a0f4b87366cc0f0fa70/0/5b694a0f4b8736ebfff0fa71.tif\"}"
   ]
  },
  {
   "cell_type": "markdown",
   "metadata": {},
   "source": [
    "### Info for the root catalog (hence generic info about the challenge):"
   ]
  },
  {
   "cell_type": "code",
   "execution_count": 6,
   "metadata": {},
   "outputs": [],
   "source": [
    "stac_version = \"??\"\n",
    "catalog_id = 'challenge_catalog'\n",
    "catalog_title = 'Challlenge OpenML'\n",
    "catalog_description = 'Data for the ML challenge, in the STAC format'\n",
    "catalog_links = [ {\n",
    "      \"rel\": \"self\",\n",
    "      \"href\": catalog_address\n",
    "    },\n",
    "        {\n",
    "      \"rel\": \"root\",\n",
    "      \"href\": catalog_address\n",
    "    },\n",
    "\n",
    "]\n"
   ]
  },
  {
   "cell_type": "markdown",
   "metadata": {},
   "source": [
    "### Generic Info for the collections (Info that will be in common for all of them)"
   ]
  },
  {
   "cell_type": "code",
   "execution_count": 7,
   "metadata": {},
   "outputs": [],
   "source": [
    "license = \"open\" #open, proprietary?\n",
    "version = \"1.0\"\n",
    "providers = [\n",
    "    {\n",
    "      \"name\": \"WB/OCA\",\n",
    "      \"roles\": [\n",
    "        \"producer\",\n",
    "        \"licensor\"\n",
    "      ],\n",
    "      \"url\": \"url to OCA\"\n",
    "    }\n",
    "  ]\n",
    "basic_keywords = [\"challenge\", \"world bank\"]\n",
    "extent = {\n",
    "    \"spatial\": [\n",
    "      -180.0,\n",
    "      -56.0,\n",
    "      180.0,\n",
    "      83.0\n",
    "    ],\n",
    "    \"temporal\": [\n",
    "      \"2015-06-23T00:00:00Z\",\n",
    "        None\n",
    "    ]\n",
    "  }\n",
    "\n",
    "id_collection_basic = \"challenge_collection_for_\"\n",
    "\n",
    "basic_description = \"The data available for the challenge formated in a STAC collection for \"\n",
    "basic_title = \"Data for the challenge \""
   ]
  },
  {
   "cell_type": "markdown",
   "metadata": {},
   "source": [
    "### Generic Info for the items (Info that will be in common for all of them)"
   ]
  },
  {
   "cell_type": "code",
   "execution_count": 8,
   "metadata": {},
   "outputs": [],
   "source": [
    "type_item = \"Feature\"\n",
    "properties_item = {\n",
    "    \"collection\": \"\",\n",
    "    \"datetime\": \"2019-02-26T00:00:00Z\",\n",
    "    \"td:title\": \"accra_1\",\n",
    "    \"td:description\": \"test\",\n",
    "    \"td:label_type\": \"test\",\n",
    "    \"td:classes\": [\n",
    "      \"building\", \"drains\", \"roads\"\n",
    "    ]\n",
    "  }"
   ]
  },
  {
   "cell_type": "markdown",
   "metadata": {},
   "source": [
    "## Step 1: Creating the Catalog\n"
   ]
  },
  {
   "cell_type": "code",
   "execution_count": 9,
   "metadata": {},
   "outputs": [
    {
     "name": "stdout",
     "output_type": "stream",
     "text": [
      "challenge_catalog\n",
      "challenge_catalog\n",
      "/Users/axel/Desktop/STAC_Challenge_2/catalog.json\n",
      "/Users/axel/Desktop/STAC_Challenge_2\n"
     ]
    }
   ],
   "source": [
    "catalog_json = {\n",
    "    \"stac_version\": stac_version,\n",
    "    \"id\": catalog_id,\n",
    "    \"title\": catalog_title,\n",
    "    \"description\": catalog_description,\n",
    "    \"links\": catalog_links\n",
    "    \n",
    "    \n",
    "}\n",
    "catalog = Catalog(catalog_json)\n",
    "print(catalog.id)\n",
    "# save as a root catalog\n",
    "catalog.save_as(catalog_address)\n",
    "print(catalog.id)\n",
    "print(catalog.filename)\n",
    "print(catalog.path)"
   ]
  },
  {
   "cell_type": "markdown",
   "metadata": {},
   "source": [
    "## Functions to create the collections\n",
    "\n"
   ]
  },
  {
   "cell_type": "code",
   "execution_count": 25,
   "metadata": {},
   "outputs": [],
   "source": [
    "def get_tags_collection(foldername):\n",
    "    key = basic_keywords.copy()\n",
    "    key.append(foldername)\n",
    "    #collection_address = stac_challenge_folder +'/' + foldername + '_collection.json'\n",
    "    collection_adress = stac_challenge_folder +'/' +id_collection_basic+folder+'/'+ folder + '_collection.json'\n",
    "    links =[ {\n",
    "          \"rel\": \"self\",\n",
    "          \"href\": collection_address\n",
    "        },\n",
    "            {\n",
    "          \"rel\": \"root\",\n",
    "          \"href\": catalog_address\n",
    "        }]\n",
    "    title = basic_title + foldername\n",
    "    description = basic_description + foldername\n",
    "    id_collection = id_collection_basic + foldername\n",
    "    return stac_version, id_collection, title, description, key, version, license, providers, extent, links"
   ]
  },
  {
   "cell_type": "code",
   "execution_count": 26,
   "metadata": {},
   "outputs": [],
   "source": [
    "def create_corresponding_collection(stac_version, id_collection, title, description, keywords, version, license, providers, extent, links):\n",
    "    # create a Colllection object with JSON\n",
    "    collection_json = {\n",
    "    \"stac_version\": \"??\",\n",
    "    \"id\": id_collection,\n",
    "    \"title\": title ,\n",
    "    \"description\": description,\n",
    "    \"collection version\": version,\n",
    "    \"keywords\":keywords,\n",
    "    \"license\": license,\n",
    "    \"version\": version,\n",
    "    \"providers\":providers,\n",
    "    \"extent\":extent,\n",
    "    \"links\": links\n",
    "    }\n",
    "    col = Collection(collection_json)\n",
    "    print(col.id)\n",
    "    return col"
   ]
  },
  {
   "cell_type": "markdown",
   "metadata": {},
   "source": [
    "### test"
   ]
  },
  {
   "cell_type": "code",
   "execution_count": 27,
   "metadata": {},
   "outputs": [
    {
     "name": "stdout",
     "output_type": "stream",
     "text": [
      "('??', 'challenge_collection_for_accra_1', 'Data for the challenge accra_1', 'The data available for the challenge formated in a STAC collection for accra_1', ['challenge', 'world bank', 'accra_1'], '1.0', 'open', [{'name': 'WB/OCA', 'roles': ['producer', 'licensor'], 'url': 'url to OCA'}], {'spatial': [-180.0, -56.0, 180.0, 83.0], 'temporal': ['2015-06-23T00:00:00Z', None]}, [{'rel': 'self', 'href': '/Users/axel/Desktop/STAC_Challenge_2/accra_1_collection.json'}, {'rel': 'root', 'href': '/Users/axel/Desktop/STAC_Challenge_2/catalog.json'}])\n"
     ]
    }
   ],
   "source": [
    "print(get_tags_collection(\"accra_1\"))"
   ]
  },
  {
   "cell_type": "code",
   "execution_count": 28,
   "metadata": {},
   "outputs": [
    {
     "name": "stdout",
     "output_type": "stream",
     "text": [
      "challenge_collection_for_accra_1\n",
      "Title: Data for the challenge accra_1\n",
      "Collection Version: 1.0\n",
      "Keywords:  ['challenge', 'world bank', 'accra_1']\n",
      "License: open\n",
      "Providers: [{'name': 'WB/OCA', 'roles': ['producer', 'licensor'], 'url': 'url to OCA'}]\n",
      "Extent {'spatial': [-180.0, -56.0, 180.0, 83.0], 'temporal': ['2015-06-23T00:00:00Z', None]}\n",
      "challenge_collection_for_accra_1\n",
      "/Users/axel/Desktop/STAC_Challenge_2/accra_1_collection.json\n",
      "/Users/axel/Desktop/STAC_Challenge_2\n"
     ]
    }
   ],
   "source": [
    "stac_version, id_collection, title, description, keywords, version, license, providers, extent, links = get_tags_collection(\"accra_1\")\n",
    "col = create_corresponding_collection(stac_version, id_collection, title, description, keywords, version, license, providers, extent, links)\n",
    "\n",
    "print('Title:', col.title)\n",
    "print('Collection Version:', col.version)\n",
    "print('Keywords: ', col.keywords)\n",
    "print('License:', col.license)\n",
    "print('Providers:', col.providers)\n",
    "print('Extent', col.extent)\n",
    "\n",
    "\n",
    "\n",
    "collection_address = stac_challenge_folder +'/' + \"accra_1\" + '_collection.json'\n",
    "col.save_as(collection_address)\n",
    "print(col.id)\n",
    "print(col.filename)\n",
    "print(col.path)\n",
    "collection = Collection.open(collection_address)"
   ]
  },
  {
   "cell_type": "code",
   "execution_count": null,
   "metadata": {},
   "outputs": [],
   "source": []
  },
  {
   "cell_type": "markdown",
   "metadata": {},
   "source": [
    "## Functions to create the items"
   ]
  },
  {
   "cell_type": "code",
   "execution_count": 29,
   "metadata": {},
   "outputs": [],
   "source": [
    "def get_bbox(directory, filename):\n",
    "    with open(directory + '/'+ filename, 'r') as f:\n",
    "        data = json.load(f)\n",
    "        c1 = [];\n",
    "        c2 = [];\n",
    "        for f in data[\"features\"]:\n",
    "            c_partial = f[\"geometry\"][\"coordinates\"][0]\n",
    "            for x in c_partial:\n",
    "                c1.append(x[0]) # first coordinate\n",
    "                c2.append(x[1])\n",
    "        bbox = [[min(c1),min(c2)],[min(c1),max(c2)],[max(c1),max(c2)],[max(c1),min(c2)],[min(c1),min(c2)]]\n",
    "    return bbox"
   ]
  },
  {
   "cell_type": "code",
   "execution_count": 30,
   "metadata": {},
   "outputs": [],
   "source": [
    "def get_tags_items(collection, foldername, filename, bbox):\n",
    "    filename_split_1 = filename.split('.');\n",
    "    filename_split = filename_split_1[0]\n",
    "    id_item = filename_split\n",
    "    links_item = [    {\n",
    "      \"rel\": \"self\",\n",
    "      \"href\": stac_challenge_folder+\"/\"+filename_split+\"-item.json\"\n",
    "    },\n",
    "    {\n",
    "      \"rel\": \"root\",\n",
    "      \"href\": collection.filename\n",
    "    },]\n",
    "    \n",
    "    assets_item = {\n",
    "    \"raster\": {\n",
    "        \"title\": \"image\",\n",
    "        \"href\": tiffiles[filename.split('_')[0]+'_'+filename.split('_')[1]],\n",
    "        \"type\": \"image/vnd.stac.geotiff; cloud-optimized=true\"\n",
    "    },\n",
    "    \"vector\": {\n",
    "      \"title\": filename_split,\n",
    "      \"href\": stac_challenge_folder+'/'+foldername +'/'+filename,\n",
    "      \"type\": \"application/geo+json\"\n",
    "    }\n",
    "    }\n",
    "    key = basic_keywords.copy()\n",
    "    key.append(filename_split[0]+'_'+filename_split[1])\n",
    "    key.append(filename_split[2])\n",
    "    collection_address = stac_challenge_folder +'/' + filename\n",
    "    geometry_item = {\n",
    "           \"type\": \"Polygon\",\n",
    "           \"coordinates\": bbox\n",
    "        \n",
    "         }\n",
    "    bbox_item = bbox\n",
    "    return id_item, type_item, geometry_item, bbox_item, properties_item, links_item,assets_item"
   ]
  },
  {
   "cell_type": "code",
   "execution_count": 31,
   "metadata": {},
   "outputs": [],
   "source": [
    "# create a Colllection object with JSON\n",
    "def create_corresponding_item(id_item, type_item, geometry_item, bbox_item, properties_item, links_item,assets_item):\n",
    "    item_json = {\n",
    "        \"id\": id_item,\n",
    "        \"type\": type_item,\n",
    "        \"geometry\": geometry_item,\n",
    "        \"bbox\": bbox_item,\n",
    "        \"properties\": properties_item,\n",
    "        \"links\": links_item,\n",
    "        \"assets\":assets_item,\n",
    "    }\n",
    "\n",
    "\n",
    "    it= Item(item_json)\n",
    "    return it"
   ]
  },
  {
   "cell_type": "markdown",
   "metadata": {},
   "source": [
    "### Test"
   ]
  },
  {
   "cell_type": "code",
   "execution_count": 32,
   "metadata": {},
   "outputs": [],
   "source": [
    "collection = Collection.open(collection_address)\n",
    "bbox = get_bbox(stac_challenge_folder + '/'+ 'accra_1', \"accra_1_drains.geojson\")\n",
    "id_item, type_item, geometry_item, bbox_item, properties_item, links_item,assets_item = get_tags_items(collection,\"accra_1\", \"accra_1_drains.geojson\", bbox)\n",
    "it = create_corresponding_item(id_item, type_item, geometry_item, bbox_item, properties_item, links_item,assets_item)"
   ]
  },
  {
   "cell_type": "code",
   "execution_count": 33,
   "metadata": {},
   "outputs": [
    {
     "name": "stdout",
     "output_type": "stream",
     "text": [
      "accra_1_drains\n",
      "/Users/axel/Desktop/STAC_Challenge_2/accra_1_drains-item.json\n",
      "/Users/axel/Desktop/STAC_Challenge_2\n"
     ]
    }
   ],
   "source": [
    "item_address = stac_challenge_folder +'/' + \"accra_1_drains\" + '-item.json'\n",
    "it.save_as(item_address)\n",
    "print(it.id)\n",
    "print(it.filename)\n",
    "print(it.path)\n",
    "item = Item.open(item_address)"
   ]
  },
  {
   "cell_type": "code",
   "execution_count": 34,
   "metadata": {},
   "outputs": [
    {
     "data": {
      "text/plain": [
       "{'raster': {'title': 'image',\n",
       "  'href': 'https://oin-hotosm.s3.amazonaws.com/5b694a0f4b87366cc0f0fa70/0/5b694a0f4b8736ebfff0fa71.tif',\n",
       "  'type': 'image/vnd.stac.geotiff; cloud-optimized=true'},\n",
       " 'vector': {'title': 'accra_1_drains',\n",
       "  'href': '/Users/axel/Desktop/STAC_Challenge_2/accra_1/accra_1_drains.geojson',\n",
       "  'type': 'application/geo+json'}}"
      ]
     },
     "execution_count": 34,
     "metadata": {},
     "output_type": "execute_result"
    }
   ],
   "source": [
    "item.assets"
   ]
  },
  {
   "cell_type": "markdown",
   "metadata": {},
   "source": [
    "# We go through the files to create all the items and collections\n"
   ]
  },
  {
   "cell_type": "code",
   "execution_count": 43,
   "metadata": {},
   "outputs": [
    {
     "name": "stdout",
     "output_type": "stream",
     "text": [
      "accra_1\n",
      "challenge_collection_for_accra_1\n",
      "accra_1_buildings.geojson\n",
      "accra_1_drains.geojson\n"
     ]
    },
    {
     "data": {
      "text/plain": [
       "challenge_catalog"
      ]
     },
     "execution_count": 43,
     "metadata": {},
     "output_type": "execute_result"
    }
   ],
   "source": [
    "\n",
    "\n",
    "for folder in os.listdir(stac_challenge_folder):\n",
    "    if(folder!= '.DS_Store' and \"json\" not in folder):\n",
    "        print(folder)\n",
    "        \n",
    "        stac_version, id_collection, title, description, keywords, version, license, providers, extent, links = get_tags_collection(folder)\n",
    "        collection = create_corresponding_collection(stac_version, id_collection, title, description, keywords, version, license, providers, extent, links)\n",
    "        #collection_address = stac_challenge_folder +'/' + folder + '_collection.json'\n",
    "        collection_address = stac_challenge_folder +'/' +id_collection_basic+folder+'/'+ folder + '_collection.json'\n",
    "        collection.save_as(collection_address)\n",
    "        catalog.add_catalog(collection)\n",
    "        \n",
    "        for file in os.listdir(stac_challenge_folder+'/'+folder):\n",
    "            print(file)\n",
    "            \n",
    "            bbox = get_bbox(stac_challenge_folder + '/'+ folder, file)\n",
    "            id_item, type_item, geometry_item, bbox_item, properties_item, links_item,assets_item = get_tags_items(collection,folder, file, bbox)\n",
    "            item = create_corresponding_item(id_item, type_item, geometry_item, bbox_item, properties_item, links_item,assets_item)\n",
    "            item_address = stac_challenge_folder +'/' +id_collection_basic+folder+'/'+ file.split('.')[0] + '-item.json'\n",
    "            item.save_as(item_address)\n",
    "            collection.add_item(item)\n",
    "            \n",
    "        #collection_address = stac_challenge_folder +'/' + folder + '_collection.json'\n",
    "        collection.save_as(collection_address)\n",
    "catalog.save_as(catalog_address)\n"
   ]
  },
  {
   "cell_type": "code",
   "execution_count": 38,
   "metadata": {},
   "outputs": [
    {
     "data": {
      "text/plain": [
       "'/Users/axel/Desktop/STAC_Challenge_2/catalog.json'"
      ]
     },
     "execution_count": 38,
     "metadata": {},
     "output_type": "execute_result"
    }
   ],
   "source": []
  },
  {
   "cell_type": "code",
   "execution_count": 36,
   "metadata": {},
   "outputs": [
    {
     "data": {
      "text/plain": [
       "[{'rel': 'self',\n",
       "  'href': '/Users/axel/Desktop/STAC_Challenge_2/challenge_collection_for_accra_1/accra_1_drains.json'},\n",
       " {'rel': 'root', 'href': '../catalog.json'},\n",
       " {'rel': 'parent', 'href': 'catalog.json'},\n",
       " {'rel': 'collection', 'href': 'catalog.json'}]"
      ]
     },
     "execution_count": 36,
     "metadata": {},
     "output_type": "execute_result"
    }
   ],
   "source": [
    "item.data['links']"
   ]
  },
  {
   "cell_type": "code",
   "execution_count": null,
   "metadata": {},
   "outputs": [],
   "source": []
  },
  {
   "cell_type": "code",
   "execution_count": null,
   "metadata": {},
   "outputs": [],
   "source": []
  }
 ],
 "metadata": {
  "kernelspec": {
   "display_name": "Python 3",
   "language": "python",
   "name": "python3"
  },
  "language_info": {
   "codemirror_mode": {
    "name": "ipython",
    "version": 3
   },
   "file_extension": ".py",
   "mimetype": "text/x-python",
   "name": "python",
   "nbconvert_exporter": "python",
   "pygments_lexer": "ipython3",
   "version": "3.7.1"
  }
 },
 "nbformat": 4,
 "nbformat_minor": 2
}
