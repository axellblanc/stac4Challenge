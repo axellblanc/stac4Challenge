{
 "cells": [
  {
   "cell_type": "markdown",
   "metadata": {},
   "source": [
    "# STAC Challenge automatized\n",
    "<br><br>\n",
    "All of this is made assuming that the structure of the folder would be: <br><br>\n",
    "\n",
    "stac_challenge_folder / accra_1 / accra_1_drains.geojson <br><br> \n",
    "stac_challenge_folder / accra_1 / accra_1_roads.geojson <br><br> \n",
    "stac_challenge_folder / accra_1 / accra_1_buildings.geojson <br><br> \n",
    "stac_challenge_folder / accra_2 / accra_2_drains.geojson <br><br> \n",
    "...<br><br>\n",
    "\n",
    "And that the links to the corresponding tiffiles would be listed in tiffiles (see below)"
   ]
  },
  {
   "cell_type": "code",
   "execution_count": 1,
   "metadata": {},
   "outputs": [],
   "source": [
    "from satstac import Catalog\n",
    "from satstac import Collection\n",
    "from satstac import Item\n",
    "import rasterio\n",
    "import shapely\n",
    "import sys,os,os.path\n",
    "import json"
   ]
  },
  {
   "cell_type": "code",
   "execution_count": 2,
   "metadata": {},
   "outputs": [],
   "source": [
    "#Where to store the collection and the items:\n",
    "stac_challenge_folder = './STAC_Challenge_2'\n",
    "catalog_address = stac_challenge_folder + '/' + 'catalog.json'\n",
    "tiffiles = {\"accra_1\": \"https://oin-hotosm.s3.amazonaws.com/5b694a0f4b87366cc0f0fa70/0/5b694a0f4b8736ebfff0fa71.tif\",\n",
    "           \"accra_2\":\"https://oin-hotosm.s3.amazonaws.com/5bb9323e9ed15b0006d24f33/0/5bb9323e9ed15b0006d24f34.tif\",\n",
    "           'monrovia_1':'https://oin-hotosm.s3.amazonaws.com/5b83a514c8e197000a93403e/0/5b83a514c8e197000a93403f.tif',\n",
    "           'monrovia_2':'https://oin-hotosm.s3.amazonaws.com/5b83a514c8e197000a93403e/0/5b83a514c8e197000a93403f.tif'}"
   ]
  },
  {
   "cell_type": "markdown",
   "metadata": {},
   "source": [
    "### Info for the root catalog (hence generic info about the challenge):"
   ]
  },
  {
   "cell_type": "code",
   "execution_count": 3,
   "metadata": {},
   "outputs": [],
   "source": [
    "stac_version = \"??\"\n",
    "catalog_id = 'challenge_catalog'\n",
    "catalog_title = 'Challenge OpenML'\n",
    "catalog_description = 'Data for the ML challenge, in the STAC format'\n",
    "catalog_links = [ {\n",
    "      \"rel\": \"self\",\n",
    "      \"href\": '../'+catalog_address\n",
    "    },\n",
    "        {\n",
    "      \"rel\": \"root\",\n",
    "      \"href\": '../'+catalog_address\n",
    "    },\n",
    "]"
   ]
  },
  {
   "cell_type": "markdown",
   "metadata": {},
   "source": [
    "### Generic Info for the collections (Info that will be in common for all of them)"
   ]
  },
  {
   "cell_type": "code",
   "execution_count": 4,
   "metadata": {},
   "outputs": [],
   "source": [
    "license = \"open\" #open, proprietary?\n",
    "version = \"1.0\"\n",
    "providers = [\n",
    "    {\n",
    "      \"name\": \"WB/OCA\",\n",
    "      \"roles\": [\n",
    "        \"producer\",\n",
    "        \"licensor\"\n",
    "      ],\n",
    "      \"url\": \"https://opencitiesproject.org\"\n",
    "    }\n",
    "  ]\n",
    "basic_keywords = [\"challenge\", \"world bank\"]\n",
    "extent = {\n",
    "    \"spatial\": [\n",
    "      -180.0,\n",
    "      -56.0,\n",
    "      180.0,\n",
    "      83.0\n",
    "    ],\n",
    "    \"temporal\": [\n",
    "      \"2015-06-23T00:00:00Z\",\n",
    "        None\n",
    "    ]\n",
    "  }\n",
    "id_collection_basic = \"challenge_collection_for_\"\n",
    "basic_description = \"The data available for the challenge formatted in a STAC collection for \"\n",
    "basic_title = \"Data for the challenge \""
   ]
  },
  {
   "cell_type": "markdown",
   "metadata": {},
   "source": [
    "### Generic Info for the items (Info that will be in common for all of them)"
   ]
  },
  {
   "cell_type": "code",
   "execution_count": 5,
   "metadata": {},
   "outputs": [],
   "source": [
    "type_item = \"Feature\"\n",
    "properties_item = {\n",
    "    \"datetime\": \"2019-02-26T00:00:00Z\",\n",
    "    \"td:title\": \"test\",\n",
    "    \"td:description\": \"test\",\n",
    "    \"td:label_type\": \"test\",\n",
    "    \"td:classes\": [\n",
    "      'buildings', 'drains', 'roads'\n",
    "    ]\n",
    "  }"
   ]
  },
  {
   "cell_type": "markdown",
   "metadata": {},
   "source": [
    "## Create the Catalog\n"
   ]
  },
  {
   "cell_type": "code",
   "execution_count": 6,
   "metadata": {},
   "outputs": [
    {
     "name": "stdout",
     "output_type": "stream",
     "text": [
      "challenge_catalog\n",
      "challenge_catalog\n",
      "./STAC_Challenge_2/catalog.json\n",
      "./STAC_Challenge_2\n"
     ]
    }
   ],
   "source": [
    "catalog_json = {\n",
    "    \"stac_version\": stac_version,\n",
    "    \"id\": catalog_id,\n",
    "    \"title\": catalog_title,\n",
    "    \"description\": catalog_description,\n",
    "    \"links\": catalog_links   \n",
    "}\n",
    "catalog = Catalog(catalog_json)\n",
    "print(catalog.id)\n",
    "# save as a root catalog\n",
    "catalog.save_as(catalog_address)\n",
    "print(catalog.id)\n",
    "print(catalog.filename)\n",
    "print(catalog.path)"
   ]
  },
  {
   "cell_type": "markdown",
   "metadata": {},
   "source": [
    "## Functions to create the collections\n",
    "\n"
   ]
  },
  {
   "cell_type": "code",
   "execution_count": 7,
   "metadata": {},
   "outputs": [],
   "source": [
    "def get_tags_collection(foldername):\n",
    "    key = basic_keywords.copy()\n",
    "    key.append(foldername)\n",
    "    key.append(foldername.split('_')[0]+' '+foldername.split('_')[1])\n",
    "    collection_address = stac_challenge_folder +'/' +id_collection_basic+foldername+'/'+ foldername + '_collection.json'\n",
    "    links =[ {\n",
    "          \"rel\": \"self\",\n",
    "          \"href\": collection_address\n",
    "        },\n",
    "            {\n",
    "          \"rel\": \"root\",\n",
    "          \"href\": '../catalog.json'#catalog_address\n",
    "        }]\n",
    "    title = basic_title + foldername\n",
    "    description = basic_description + foldername\n",
    "    id_collection = id_collection_basic + foldername\n",
    "    return stac_version, id_collection, title, description, key, version, license, providers, extent, links"
   ]
  },
  {
   "cell_type": "code",
   "execution_count": 8,
   "metadata": {},
   "outputs": [],
   "source": [
    "def create_corresponding_collection(stac_version, id_collection, title, description, keywords, version, license, providers, extent, links):\n",
    "    # create a Collection object with JSON\n",
    "    collection_json = {\n",
    "    \"stac_version\": \"??\",\n",
    "    \"id\": id_collection,\n",
    "    \"title\": title ,\n",
    "    \"description\": description,\n",
    "    \"collection version\": version,\n",
    "    \"keywords\":keywords,\n",
    "    \"license\": license,\n",
    "    \"version\": version,\n",
    "    \"providers\":providers,\n",
    "    \"extent\":extent,\n",
    "    \"links\": links\n",
    "    }\n",
    "    col = Collection(collection_json)\n",
    "    print(col.id)\n",
    "    return col"
   ]
  },
  {
   "cell_type": "markdown",
   "metadata": {},
   "source": [
    "## Functions to create the items"
   ]
  },
  {
   "cell_type": "code",
   "execution_count": 9,
   "metadata": {},
   "outputs": [],
   "source": [
    "def get_bbox(directory, filename):\n",
    "    with open(directory + '/'+ filename, 'r') as f:\n",
    "        data = json.load(f)\n",
    "        c1 = [];\n",
    "        c2 = [];\n",
    "        if(\"Polygon\" in data['features'][0][\"geometry\"][\"type\"]):\n",
    "            for f in data[\"features\"]:\n",
    "                c_partial_1 = f[\"geometry\"][\"coordinates\"]\n",
    "                #print(c_partial_1)\n",
    "                for c_partial_2 in c_partial_1:\n",
    "                    for c_partial in c_partial_2:\n",
    "                        for x in c_partial:\n",
    "                            #print('x0:',x[0])\n",
    "                            c1.append(x[0]) # first coordinate\n",
    "                            c2.append(x[1])     \n",
    "        else:\n",
    "            for f in data[\"features\"]:\n",
    "                c_partial_1 = f[\"geometry\"][\"coordinates\"]\n",
    "                #print(c_partial_1)\n",
    "                for c_partial in c_partial_1:\n",
    "                    for x in c_partial:\n",
    "                        #print('x0:',x[0])\n",
    "                        c1.append(x[0]) # first coordinate\n",
    "                        c2.append(x[1])\n",
    "        bbox = [[min(c1),min(c2)],[min(c1),max(c2)],[max(c1),max(c2)],[max(c1),min(c2)],[min(c1),min(c2)]]\n",
    "    return bbox"
   ]
  },
  {
   "cell_type": "code",
   "execution_count": 10,
   "metadata": {},
   "outputs": [],
   "source": [
    "def get_tags_items(collection, foldername, filename, bbox):\n",
    "    filename_split_1 = filename.split('.');\n",
    "    filename_split = filename_split_1[0]\n",
    "    id_item = filename_split\n",
    "    links_item = [    {\n",
    "      \"rel\": \"self\",\n",
    "      \"href\": stac_challenge_folder+\"/\"+filename_split+\"-item.json\"\n",
    "    },\n",
    "    {\n",
    "      \"rel\": \"root\",\n",
    "      \"href\": collection.filename\n",
    "    },]\n",
    "    \n",
    "    assets_item = {\n",
    "    \"raster\": {\n",
    "        \"title\": \"image\",\n",
    "        \"href\": tiffiles[filename.split('_')[0]+'_'+filename.split('_')[1]],\n",
    "        \"type\": \"image/vnd.stac.geotiff; cloud-optimized=true\"\n",
    "    },\n",
    "    \"vector\": {\n",
    "      \"title\": filename_split,\n",
    "      \"href\": '../'+foldername +'/'+filename,\n",
    "      \"type\": \"application/geo+json\"\n",
    "    }\n",
    "    }\n",
    "    key = basic_keywords.copy()\n",
    "    key.append(filename_split[0]+'_'+filename_split[1])\n",
    "    key.append(filename_split[2])\n",
    "    collection_address = stac_challenge_folder +'/' + filename\n",
    "    directory = stac_challenge_folder + '/'+ foldername\n",
    "    \n",
    "    with open(directory + '/'+ filename, 'r') as f:\n",
    "        data = json.load(f)\n",
    "        geom = []\n",
    "        for f in data[\"features\"]:\n",
    "            geom.append(f[\"geometry\"][\"coordinates\"][0])\n",
    "        if(\"Polygon\" in data['features'][0][\"geometry\"][\"type\"]):    \n",
    "            geometry_item = {\n",
    "                   \"type\": \"MultiPolygon\",\n",
    "                    \"coordinates\": geom\n",
    "                 }\n",
    "        else:\n",
    "            geometry_item = {\n",
    "                   \"type\": \"MultiLineString\",\n",
    "                   \"coordinates\": geom\n",
    "                 }\n",
    "    bbox_item = bbox\n",
    "    prop = properties_item;\n",
    "    prop['collection']=filename_split.split('_')[0]+' '+filename_split.split('_')[1]\n",
    "    prop['td:title']=filename_split.split('_')[0]+' '+filename_split.split('_')[1]\n",
    "    prop['td:label_type']=filename_split.split('_')[2]\n",
    "    prop['td:description']=filename_split.split('_')[2]+' for '+filename_split.split('_')[0]+' '+filename_split.split('_')[1]\n",
    "    return id_item, type_item, geometry_item, bbox_item, prop, links_item,assets_item"
   ]
  },
  {
   "cell_type": "code",
   "execution_count": 11,
   "metadata": {},
   "outputs": [],
   "source": [
    "# create an Item object with JSON\n",
    "def create_corresponding_item(id_item, type_item, geometry_item, bbox_item, properties_item, links_item,assets_item):\n",
    "    item_json = {\n",
    "        \"id\": id_item,\n",
    "        \"type\": type_item,\n",
    "        \"geometry\": geometry_item,\n",
    "        \"bbox\": bbox_item,\n",
    "        \"properties\": properties_item,\n",
    "        \"links\": links_item,\n",
    "        \"assets\":assets_item,\n",
    "    }\n",
    "    it= Item(item_json)\n",
    "    return it"
   ]
  },
  {
   "cell_type": "markdown",
   "metadata": {},
   "source": [
    "## Create the items and collections\n"
   ]
  },
  {
   "cell_type": "code",
   "execution_count": 12,
   "metadata": {},
   "outputs": [
    {
     "data": {
      "text/plain": [
       "{'stac_version': '??',\n",
       " 'id': 'challenge_catalog',\n",
       " 'title': 'Challenge OpenML',\n",
       " 'description': 'Data for the ML challenge, in the STAC format',\n",
       " 'links': [{'rel': 'self', 'href': '.././STAC_Challenge_2/catalog.json'},\n",
       "  {'rel': 'root', 'href': '.././STAC_Challenge_2/catalog.json'}]}"
      ]
     },
     "execution_count": 12,
     "metadata": {},
     "output_type": "execute_result"
    }
   ],
   "source": [
    "catalog.data"
   ]
  },
  {
   "cell_type": "code",
   "execution_count": 13,
   "metadata": {},
   "outputs": [
    {
     "name": "stdout",
     "output_type": "stream",
     "text": [
      "monrovia_2\n",
      "challenge_collection_for_monrovia_2\n",
      "./STAC_Challenge_2/challenge_collection_for_monrovia_2/monrovia_2_collection.json\n",
      "monrovia_2_buildings.geojson\n",
      "monrovia_2_drains.geojson\n",
      "monrovia_2_roads.geojson\n",
      "accra_1\n",
      "challenge_collection_for_accra_1\n",
      "./STAC_Challenge_2/challenge_collection_for_accra_1/accra_1_collection.json\n",
      "accra_1_roads.geojson\n",
      "accra_1_buildings.geojson\n",
      "accra_1_drains.geojson\n",
      "monrovia_1\n",
      "challenge_collection_for_monrovia_1\n",
      "./STAC_Challenge_2/challenge_collection_for_monrovia_1/monrovia_1_collection.json\n",
      "monrovia_1_drains.geojson\n",
      "monrovia_1_buildings.geojson\n",
      "monrovia_1_roads.geojson\n",
      "accra_2\n",
      "challenge_collection_for_accra_2\n",
      "./STAC_Challenge_2/challenge_collection_for_accra_2/accra_2_collection.json\n",
      "accra_2_roads.geojson\n",
      "accra_2_drains.geojson\n",
      "accra_2_buildings.geojson\n"
     ]
    },
    {
     "data": {
      "text/plain": [
       "challenge_catalog"
      ]
     },
     "execution_count": 13,
     "metadata": {},
     "output_type": "execute_result"
    }
   ],
   "source": [
    "for folder in os.listdir(stac_challenge_folder):\n",
    "    if(folder!= '.DS_Store' and \"json\" not in folder):\n",
    "        print(folder)\n",
    "        \n",
    "        stac_version, id_collection, title, description, keywords, version, license, providers, extent, links = get_tags_collection(folder)\n",
    "        collection = create_corresponding_collection(stac_version, id_collection, title, description, keywords, version, license, providers, extent, links)\n",
    "        #collection_address = stac_challenge_folder +'/' + folder + '_collection.json'\n",
    "        collection_address = stac_challenge_folder +'/' +id_collection_basic+folder+'/'+ folder + '_collection.json'\n",
    "        print(collection_address)\n",
    "        collection.save_as(collection_address)\n",
    "        catalog.add_catalog(collection)\n",
    "        \n",
    "        for file in os.listdir(stac_challenge_folder+'/'+folder):\n",
    "            print(file)\n",
    "            \n",
    "            bbox = get_bbox(stac_challenge_folder + '/'+ folder, file)\n",
    "            id_item, type_item, geometry_item, bbox_item, properties_item, links_item,assets_item = get_tags_items(collection,folder, file, bbox)\n",
    "            item = create_corresponding_item(id_item, type_item, geometry_item, bbox_item, properties_item, links_item,assets_item)\n",
    "            item_address = stac_challenge_folder +'/' +id_collection_basic+folder+'/'+ file.split('.')[0] + '-item.json'\n",
    "            item.save_as(item_address)\n",
    "            collection.add_item(item)\n",
    "            \n",
    "        #collection_address = stac_challenge_folder +'/' + folder + '_collection.json'\n",
    "        collection.save_as(collection_address)\n",
    "catalog.save_as(catalog_address)"
   ]
  }
 ],
 "metadata": {
  "kernelspec": {
   "display_name": "Python 3",
   "language": "python",
   "name": "python3"
  },
  "language_info": {
   "codemirror_mode": {
    "name": "ipython",
    "version": 3
   },
   "file_extension": ".py",
   "mimetype": "text/x-python",
   "name": "python",
   "nbconvert_exporter": "python",
   "pygments_lexer": "ipython3",
   "version": "3.7.1"
  }
 },
 "nbformat": 4,
 "nbformat_minor": 2
}
